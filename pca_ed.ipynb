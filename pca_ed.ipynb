{
 "cells": [
  {
   "cell_type": "code",
   "execution_count": 1,
   "metadata": {},
   "outputs": [],
   "source": [
    "import pandas as pd\n",
    "import numpy as np"
   ]
  },
  {
   "cell_type": "code",
   "execution_count": 2,
   "metadata": {},
   "outputs": [
    {
     "data": {
      "text/plain": [
       "array([[0., 0., 0., ..., 0., 0., 0.],\n",
       "       [0., 0., 0., ..., 0., 0., 0.],\n",
       "       [0., 0., 0., ..., 0., 0., 0.],\n",
       "       ...,\n",
       "       [0., 0., 0., ..., 0., 0., 0.],\n",
       "       [0., 0., 0., ..., 0., 0., 0.],\n",
       "       [0., 0., 0., ..., 0., 0., 0.]])"
      ]
     },
     "execution_count": 2,
     "metadata": {},
     "output_type": "execute_result"
    }
   ],
   "source": [
    "df = pd.read_csv('./data/nyt-frame.csv', header = 0)\n",
    "data = df.iloc[:,9:]\n",
    "array = data.values\n",
    "array"
   ]
  },
  {
   "cell_type": "code",
   "execution_count": 3,
   "metadata": {},
   "outputs": [
    {
     "name": "stdout",
     "output_type": "stream",
     "text": [
      "['escape' 'bounds' 'probably' 'exchange' 'shirts' 'sensual' 'louis'\n",
      " 'travel' 'sort' 'nassau' 'realize' 'individual' 'playwriting' 'boom'\n",
      " 'saul' 'arranged' 'hours' 'driven' 'realm' 'institutions']\n"
     ]
    }
   ],
   "source": [
    "header = list(df.columns.values[9:])\n",
    "sample_word = np.random.choice(header, 20, replace=False)\n",
    "print(sample_word)"
   ]
  },
  {
   "cell_type": "code",
   "execution_count": 16,
   "metadata": {},
   "outputs": [],
   "source": [
    "from sklearn.decomposition import PCA\n",
    "pca = PCA()\n",
    "X_pca = pca.fit_transform(array)"
   ]
  },
  {
   "cell_type": "code",
   "execution_count": 9,
   "metadata": {},
   "outputs": [
    {
     "name": "stdout",
     "output_type": "stream",
     "text": [
      "4424\n"
     ]
    },
    {
     "data": {
      "text/plain": [
       "[(0.26127391890531587, 'she'),\n",
       " (0.24529311441720675, 'her'),\n",
       " (0.20211292705699738, 'ms'),\n",
       " (0.15028278883843357, 'i'),\n",
       " (0.13360556763625311, 'said'),\n",
       " (0.10687219119361743, 'mother'),\n",
       " (0.10300939205022899, 'cooper'),\n",
       " (0.09432521211958252, 'my'),\n",
       " (0.08788709841748935, 'painting'),\n",
       " (0.07119630147343924, 'process'),\n",
       " (0.06988483529500195, 'paintings'),\n",
       " (0.06857385461154239, 'im'),\n",
       " (0.06562096808145768, 'mrs'),\n",
       " (0.06531001248089248, 'he'),\n",
       " (0.06379278250161478, 'me')]"
      ]
     },
     "execution_count": 9,
     "metadata": {},
     "output_type": "execute_result"
    }
   ],
   "source": [
    "\n",
    "fst = pca.components_[0]\n",
    "\n",
    "fst_names = list(zip(fst, data.columns.values))\n",
    "print(len(fst_names))\n",
    "\n",
    "fst_max_15 = sorted(fst_names, key=lambda x: x[0], reverse=True)[:15]\n",
    "\n",
    "fst_max_15"
   ]
  },
  {
   "cell_type": "code",
   "execution_count": 11,
   "metadata": {},
   "outputs": [
    {
     "data": {
      "text/plain": [
       "[(-0.11211617341838434, 'music'),\n",
       " (-0.0878073164338167, 'trio'),\n",
       " (-0.07404600988801385, 'theater'),\n",
       " (-0.06926899826753337, 'orchestra'),\n",
       " (-0.058590609670586435, 'composers'),\n",
       " (-0.055553640967300894, 'opera'),\n",
       " (-0.05117796156989034, 'theaters'),\n",
       " (-0.04902545227080579, 'm'),\n",
       " (-0.049001383290293785, 'program'),\n",
       " (-0.048818826144997315, 'players'),\n",
       " (-0.04812333139017815, 'festival'),\n",
       " (-0.04794086893749094, 'east'),\n",
       " (-0.04791174835954268, 'y'),\n",
       " (-0.04603235412282292, 'jersey'),\n",
       " (-0.04493077625468051, 'symphony')]"
      ]
     },
     "execution_count": 11,
     "metadata": {},
     "output_type": "execute_result"
    }
   ],
   "source": [
    "fst_min_15 = sorted(fst_names, key=lambda x: x[0])[:15]\n",
    "\n",
    "fst_min_15"
   ]
  },
  {
   "cell_type": "code",
   "execution_count": 12,
   "metadata": {},
   "outputs": [
    {
     "data": {
      "text/plain": [
       "[(0.22078475821587348, 'her'),\n",
       " (0.21307376342525283, 'she'),\n",
       " (0.1623905985100136, 'theater'),\n",
       " (0.1299263753545694, 'opera'),\n",
       " (0.12447032686713268, 'ms'),\n",
       " (0.08120155281056647, 'i'),\n",
       " (0.08075865381307722, 'hour'),\n",
       " (0.07465343667556089, 'sang'),\n",
       " (0.07415772534187783, 'production'),\n",
       " (0.07300940791699438, 'festival'),\n",
       " (0.07234461523901559, 'music'),\n",
       " (0.07070817873039478, 'musical'),\n",
       " (0.06923167953630353, 'songs'),\n",
       " (0.06760285785600799, 'orchestra'),\n",
       " (0.06758794058200351, 'vocal')]"
      ]
     },
     "execution_count": 12,
     "metadata": {},
     "output_type": "execute_result"
    }
   ],
   "source": [
    "snd = pca.components_[1]\n",
    "\n",
    "snd_names = list(zip(snd, data.columns.values))\n",
    "\n",
    "snd_max_15 = sorted(snd_names, key=lambda x: x[0], reverse=True)[:15]\n",
    "\n",
    "snd_max_15"
   ]
  },
  {
   "cell_type": "code",
   "execution_count": 14,
   "metadata": {},
   "outputs": [
    {
     "data": {
      "text/plain": [
       "[(-0.15431673143840435, 'art'),\n",
       " (-0.12089946277617691, 'museum'),\n",
       " (-0.09522680440744602, 'images'),\n",
       " (-0.09263497758879576, 'artists'),\n",
       " (-0.07765780277980369, 'donations'),\n",
       " (-0.07539497668344301, 'museums'),\n",
       " (-0.07401963974238235, 'painting'),\n",
       " (-0.07226860058901613, 'tax'),\n",
       " (-0.06564345120814832, 'paintings'),\n",
       " (-0.060353138718405516, 'sculpture'),\n",
       " (-0.05515928883067876, 'gallery'),\n",
       " (-0.051479139293811205, 'sculptures'),\n",
       " (-0.050138313462929025, 'painted'),\n",
       " (-0.04966737533217039, 'white'),\n",
       " (-0.04666421975711604, 'service')]"
      ]
     },
     "execution_count": 14,
     "metadata": {},
     "output_type": "execute_result"
    }
   ],
   "source": [
    "snd_min_15 = sorted(snd_names, key=lambda x: x[0])[:15]\n",
    "\n",
    "snd_min_15"
   ]
  },
  {
   "cell_type": "code",
   "execution_count": 19,
   "metadata": {},
   "outputs": [
    {
     "data": {
      "image/png": "[encoded data removed]",
      "text/plain": [
       "<Figure size 432x288 with 1 Axes>"
      ]
     },
     "metadata": {
      "needs_background": "light"
     },
     "output_type": "display_data"
    }
   ],
   "source": [
    "import matplotlib.pyplot as plt\n",
    "\n",
    "reds = df.loc[df['class.labels'] == 'art'].index\n",
    "blues = df.loc[df['class.labels'] == 'music'].index\n",
    "\n",
    "plt.figure()\n",
    "plt.scatter(X_pca[np.array(reds), 0], X_pca[np.array(reds), 1], c=\"red\")\n",
    "plt.scatter(X_pca[np.array(blues), 0], X_pca[np.array(blues), 1], c=\"blue\")\n",
    "plt.title(\"Projection by PCA\")\n",
    "plt.xlabel(\"1st component\")\n",
    "plt.ylabel(\"2nd component\")\n",
    "plt.show()"
   ]
  },
  {
   "cell_type": "code",
   "execution_count": 20,
   "metadata": {},
   "outputs": [
    {
     "data": {
      "image/png": "[encoded data removed]",
      "text/plain": [
       "<Figure size 432x288 with 1 Axes>"
      ]
     },
     "metadata": {
      "needs_background": "light"
     },
     "output_type": "display_data"
    },
    {
     "name": "stdout",
     "output_type": "stream",
     "text": [
      "0.15773478029003496\n"
     ]
    }
   ],
   "source": [
    "variance_ratio = pca.explained_variance_ratio_\n",
    "plt.plot(variance_ratio, 'ro')\n",
    "plt.show()\n",
    "print(sum(variance_ratio[0:10]))"
   ]
  }
 ],
 "metadata": {
  "interpreter": {
   "hash": "916dbcbb3f70747c44a77c7bcd40155683ae19c65e1c03b4aa3499c5328201f1"
  },
  "kernelspec": {
   "display_name": "Python 3.8.10 64-bit",
   "language": "python",
   "name": "python3"
  },
  "language_info": {
   "codemirror_mode": {
    "name": "ipython",
    "version": 3
   },
   "file_extension": ".py",
   "mimetype": "text/x-python",
   "name": "python",
   "nbconvert_exporter": "python",
   "pygments_lexer": "ipython3",
   "version": "3.8.10"
  },
  "orig_nbformat": 4
 },
 "nbformat": 4,
 "nbformat_minor": 2
}
